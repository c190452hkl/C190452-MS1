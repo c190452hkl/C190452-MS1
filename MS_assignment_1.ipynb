{
  "cells": [
    {
      "metadata": {
        "collapsed": true
      },
      "cell_type": "markdown",
      "source": "## 数理統計学(2019)　課題1\n\n### このnotebookには、いくつかの課題が記載されています。\n### 先頭から順番に、指示に従ってPython Codeをcellに記述してください。\n### codeを記述するcellは、各自適切に生成してください。\n\n### 課題提出方法\n#### 各自のGitHubに、学籍番号_MS1（たとえば、C180001_MS1)という名称のrepositoryを作成してください。\n#### このnotebookを各自のGitHubのリポジトリ（学籍番号_MS1)へコピーしてください。\n#### 各自のGitHubのリポジトリをoffice 365のメールアカウントを使用して、sugimura@ccg.ac.jpへ送信してください。メールの件名は、学籍番号_MS1としてください。\n##### 【重要】指定された方法で課題を提出することも課題に含まれています。"
    },
    {
      "metadata": {
        "trusted": true
      },
      "cell_type": "code",
      "source": "",
      "execution_count": null,
      "outputs": []
    },
    {
      "metadata": {},
      "cell_type": "markdown",
      "source": "#### 第1問：Pythonにおいて数値計算を行うためのモジュルnumpyをインポートし、numpy数値計算ライブラリを利用できるように設定してください。"
    },
    {
      "metadata": {
        "trusted": true
      },
      "cell_type": "code",
      "source": "import numpy as np\n\nA = np.random.normal(5.0, 10.0, 50)\n\nprint (A)",
      "execution_count": 1,
      "outputs": [
        {
          "output_type": "stream",
          "text": "[ -5.9674712   -3.3980127    8.70958952  -1.31226784  12.41094432\n  14.55144328  14.88129316   2.56327538   2.1967685    7.73749742\n   0.27871639  10.24840985   4.89446713   6.45345123   5.9291335\n  -0.22525556  11.55943504   8.98648703  -3.73681966  12.51942454\n  -3.57042769   9.80699069  16.10052276  17.94771839   0.22033678\n  16.154269    -0.32329362   0.04744263   5.13527383  17.93552094\n  -0.62290904   6.32267585   4.89589845 -12.95378877   1.2093585\n  -1.77973838  -5.65645091  27.48862361  15.94526487  -0.49876813\n  21.19242741  -1.64520592  -3.90294145  13.21161295  -2.53632569\n  18.8069585    1.20680121  16.2830698    7.45028956  -0.86380714]\n",
          "name": "stdout"
        }
      ]
    },
    {
      "metadata": {},
      "cell_type": "markdown",
      "source": "#### 第2問：numpyのメソッドnumpy.random.normal(avg, std, n)は、平均がavg、標準偏差がstdである正規分布に従う乱数をn個発生させることができます。このメソッドを使用して、平均=60、標準偏差=15、個数=50である乱数からなるリストA1を発生させ、画面に表示させてください。\n"
    },
    {
      "metadata": {
        "trusted": true
      },
      "cell_type": "code",
      "source": "import numpy as np\n\nA = np.random.normal(60.0, 15.0, 50)\n\nprint (A)",
      "execution_count": 2,
      "outputs": [
        {
          "output_type": "stream",
          "text": "[ 37.47213339  72.42211817  73.37507694  74.81967478  52.21968665\n  59.02048043 100.66784008  39.87959862  24.44493524  80.2137539\n  32.02108053  34.24029684  68.58772159  52.06450563  61.37288188\n  53.74923832  45.19413153  57.09649431  62.89955659  44.0038562\n  45.01589618  70.12475117  89.1114061   56.22905999  53.19284371\n  90.3286286   48.81194966  75.28546188  75.84968032  53.15306354\n  54.21346212  26.42906325  50.94715334  88.07230039  69.408524\n  39.0795375   64.43947703  38.78303439  17.4317188   89.92740658\n  61.80167809  72.24658369  54.37894904  41.63785275  57.42059949\n  61.05478801  49.89277627  71.13427217  81.92557823  47.34315009]\n",
          "name": "stdout"
        }
      ]
    },
    {
      "metadata": {},
      "cell_type": "markdown",
      "source": "#### 第3問：第2問で発生させた乱数を整数に変換して、50個の整数のリストA2を発生させ、画面に表示させてください。\n#### Pythonのint関数は、データを整数へ変換することができます。xが実数であるとき、int(x)は、xを丸めた整数型の数値を返します。\n#### なお、リスト内包表記を用いると、コードを簡単化することができます。"
    },
    {
      "metadata": {
        "trusted": true
      },
      "cell_type": "code",
      "source": "x = [60,15,50]\nprint(x)\nx[:3]\nlen(x)\n",
      "execution_count": 7,
      "outputs": [
        {
          "output_type": "stream",
          "text": "[60, 15, 50]\n",
          "name": "stdout"
        },
        {
          "output_type": "execute_result",
          "execution_count": 7,
          "data": {
            "text/plain": "3"
          },
          "metadata": {}
        }
      ]
    },
    {
      "metadata": {},
      "cell_type": "markdown",
      "source": "#### 第3問：以下の整数型リストB1の要素の平均値を計算して、画面に表示させてください。\n\n##### なお、平均値は、\n\n$$平均値　= \\frac{リスト中の要素の合計}{リスト中の要素の個数}$$\n\n##### によって計算してください。\n\nB1 = [80, 84, 41, 58, 87, 75, 61, 103, 52, 86, 91, 58, 53, 40, 56, 55, 57, 43, 60, 61, 61, 46, 99, 48, 58, \n      72, 52, 75, 71, 60, 54, 60, 64, 38, 56, 57, 78, 55, 53, 28, 67, 86, 75, 73, 82, 86, 65, 26, 59, 24]"
    },
    {
      "metadata": {
        "trusted": true
      },
      "cell_type": "code",
      "source": "B1 = [80, 84, 41, 58, 87, 75, 61, 103, 52, 86, 91, 58, 53, 40, 56, 55, 57, 43, 60, 61, 61, 46, 99, 48, 58, \n      72, 52, 75, 71, 60, 54, 60, 64, 38, 56, 57, 78, 55, 53, 28, 67, 86, 75, 73, 82, 86, 65, 26, 59, 24]\nx=sum(B1)%len(B1)\nprint(x)",
      "execution_count": 3,
      "outputs": [
        {
          "output_type": "stream",
          "text": "29\n",
          "name": "stdout"
        }
      ]
    },
    {
      "metadata": {},
      "cell_type": "markdown",
      "source": "#### 第4問：整数型リストB1の要素の中の最大値を求めるコードを記述し、max(B1)の結果と一致することを確認してください。"
    },
    {
      "metadata": {
        "trusted": true
      },
      "cell_type": "code",
      "source": "import numpy as np\ndata=np.array([80, 84, 41, 58, 87, 75, 61, 103, 52, 86, 91, 58, 53, 40, 56, 55, 57, 43, 60, 61, 61, 46, 99, 48, 58,72, 52, 75, 71, 60, 54, 60, 64, 38, 56, 57, 78, 55, 53, 28, 67, 86, 75, 73, 82, 86, 65, 26, 59, 24])\ndata.max()",
      "execution_count": 6,
      "outputs": [
        {
          "output_type": "execute_result",
          "execution_count": 6,
          "data": {
            "text/plain": "103"
          },
          "metadata": {}
        }
      ]
    }
  ],
  "metadata": {
    "kernelspec": {
      "name": "python36",
      "display_name": "Python 3.6",
      "language": "python"
    },
    "language_info": {
      "mimetype": "text/x-python",
      "nbconvert_exporter": "python",
      "name": "python",
      "pygments_lexer": "ipython3",
      "version": "3.6.6",
      "file_extension": ".py",
      "codemirror_mode": {
        "version": 3,
        "name": "ipython"
      }
    }
  },
  "nbformat": 4,
  "nbformat_minor": 2
}